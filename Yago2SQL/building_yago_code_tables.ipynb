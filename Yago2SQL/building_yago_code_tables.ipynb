{
 "cells": [
  {
   "cell_type": "markdown",
   "metadata": {},
   "source": [
    "此文件主要内容为，将 **yagoSchema, yagoCountTaxonomy, yagoTaxonomy, yagoDateFacts, yagoFacts, yagoLabels, yagoLiteralFacts, yagoTransitiveType** 数据转化成为 **instance_code, predicate_code, attribute_value_type_code, attribute_value_code**"
   ]
  },
  {
   "cell_type": "markdown",
   "metadata": {},
   "source": [
    "## 导包"
   ]
  },
  {
   "cell_type": "code",
   "execution_count": 1,
   "metadata": {},
   "outputs": [],
   "source": [
    "import re # 正则表达式\n",
    "import time\n",
    "import numpy as np\n",
    "import pandas as pd\n",
    "from pprint import pprint # 超级打印\n",
    "from ToolScript.readSql import sql_tool # 数据库工具 (自行参考源代码，封装后可以针对此电脑直接调用)\n",
    "from sklearn.preprocessing import OrdinalEncoder # 热度编码工具"
   ]
  },
  {
   "cell_type": "markdown",
   "metadata": {},
   "source": [
    "## 数据库工具"
   ]
  },
  {
   "cell_type": "code",
   "execution_count": 2,
   "metadata": {},
   "outputs": [],
   "source": [
    "read_tool = sql_tool('Yago_pure')\n",
    "deposit_tool = sql_tool('YagoCore')"
   ]
  },
  {
   "cell_type": "markdown",
   "metadata": {},
   "source": [
    "## 读入表格"
   ]
  },
  {
   "cell_type": "code",
   "execution_count": 3,
   "metadata": {
    "scrolled": true
   },
   "outputs": [
    {
     "name": "stdout",
     "output_type": "stream",
     "text": [
      "yagoSchema表读出成功!\n",
      "yagoCountTaxonomy表读出成功!\n",
      "yagoTaxonomy表读出成功!\n",
      "yagoDateFacts表读出成功!\n",
      "yagoFacts表读出成功!\n",
      "yagoLabels表读出成功!\n",
      "yagoLiteralFacts表读出成功!\n",
      "yagoTransitiveType表读出成功!\n"
     ]
    }
   ],
   "source": [
    "yagoSchema = read_tool.get_table('yagoSchema')\n",
    "yagoCountTaxonomy = read_tool.get_table('yagoCountTaxonomy')\n",
    "yagoTaxonomy = read_tool.get_table('yagoTaxonomy')\n",
    "yagoDateFacts = read_tool.get_table('yagoDateFacts')\n",
    "yagoFacts = read_tool.get_table('yagoFacts')\n",
    "yagoLabels = read_tool.get_table('yagoLabels')\n",
    "yagoLiteralFacts = read_tool.get_table('yagoLiteralFacts')\n",
    "yagoTransitiveType = read_tool.get_table('yagoTransitiveType') # 此步骤需要10min"
   ]
  },
  {
   "cell_type": "markdown",
   "metadata": {},
   "source": [
    "**注：** 如果该步骤爆内存，将上面每行代码分成到多个cell中依次读入。"
   ]
  },
  {
   "cell_type": "markdown",
   "metadata": {},
   "source": [
    "## instance_code 表的制作"
   ]
  },
  {
   "cell_type": "code",
   "execution_count": 4,
   "metadata": {},
   "outputs": [
    {
     "data": {
      "text/html": [
       "<div>\n",
       "<style scoped>\n",
       "    .dataframe tbody tr th:only-of-type {\n",
       "        vertical-align: middle;\n",
       "    }\n",
       "\n",
       "    .dataframe tbody tr th {\n",
       "        vertical-align: top;\n",
       "    }\n",
       "\n",
       "    .dataframe thead th {\n",
       "        text-align: right;\n",
       "    }\n",
       "</style>\n",
       "<table border=\"1\" class=\"dataframe\">\n",
       "  <thead>\n",
       "    <tr style=\"text-align: right;\">\n",
       "      <th></th>\n",
       "      <th>instance</th>\n",
       "      <th>code</th>\n",
       "    </tr>\n",
       "  </thead>\n",
       "  <tbody>\n",
       "    <tr>\n",
       "      <td>0</td>\n",
       "      <td>&lt;Monostiolum_harryleei&gt;</td>\n",
       "      <td>2832350.0</td>\n",
       "    </tr>\n",
       "    <tr>\n",
       "      <td>1</td>\n",
       "      <td>&lt;pl/Bart?omiej_Czychy&gt;</td>\n",
       "      <td>6092769.0</td>\n",
       "    </tr>\n",
       "    <tr>\n",
       "      <td>2</td>\n",
       "      <td>&lt;de/FC_Erfurt_Nord&gt;</td>\n",
       "      <td>4724046.0</td>\n",
       "    </tr>\n",
       "    <tr>\n",
       "      <td>3</td>\n",
       "      <td>&lt;The_Moors_Murderers&gt;</td>\n",
       "      <td>4055215.0</td>\n",
       "    </tr>\n",
       "    <tr>\n",
       "      <td>4</td>\n",
       "      <td>&lt;Newtown_Creek_Bridge&gt;</td>\n",
       "      <td>2970688.0</td>\n",
       "    </tr>\n",
       "  </tbody>\n",
       "</table>\n",
       "</div>"
      ],
      "text/plain": [
       "                  instance       code\n",
       "0  <Monostiolum_harryleei>  2832350.0\n",
       "1   <pl/Bart?omiej_Czychy>  6092769.0\n",
       "2      <de/FC_Erfurt_Nord>  4724046.0\n",
       "3    <The_Moors_Murderers>  4055215.0\n",
       "4   <Newtown_Creek_Bridge>  2970688.0"
      ]
     },
     "execution_count": 4,
     "metadata": {},
     "output_type": "execute_result"
    }
   ],
   "source": [
    "# 此处的目的是将 table_list 中所有表的 subject列取出，并进行独热编码\n",
    "\n",
    "table_list = [yagoTransitiveType, yagoDateFacts, yagoFacts, yagoLabels, yagoLiteralFacts] # 这里是将需要独热编码的table装在list里面，方便遍历\n",
    "\n",
    "subject_ar = np.array([])\n",
    "\n",
    "for table in table_list:\n",
    "    # 取出来每个 table 中的 subject 装入 subject_ar 中\n",
    "    subject_ar = np.concatenate((subject_ar, table['subject'].values), axis=0)\n",
    "    \n",
    "# 利用set() 函数进行 去重\n",
    "pure_subject = np.array(list(set(subject_ar)))\n",
    "\n",
    "# 对pure_subject进行独热编码，具体的用法请参考sklearn的官方文档\n",
    "enc = OrdinalEncoder()\n",
    "\n",
    "enc.fit(pure_subject.reshape(-1, 1)) # reshape的原因在于sklearn的接口限制，请参考sklearn的fit方法\n",
    "\n",
    "encode_subject = enc.transform(pure_subject.reshape(-1, 1))\n",
    "encode_subject = encode_subject + 1 # 下标从1开始，sklearn的独热编码是从0开始的，另外，可以用过广播机制让每个元素+1\n",
    "\n",
    "# 将独热编码后的结果封装成DataFrame，以方便后面的操作\n",
    "subject_df = pd.DataFrame({'instance': pure_subject, 'code': encode_subject.reshape(-1)})\n",
    "subject_df.head() # 展示"
   ]
  },
  {
   "cell_type": "code",
   "execution_count": 5,
   "metadata": {},
   "outputs": [
    {
     "data": {
      "application/vnd.jupyter.widget-view+json": {
       "model_id": "797ab01af15d48158ea4cfe529a33fb4",
       "version_major": 2,
       "version_minor": 0
      },
      "text/plain": [
       "  0%|          | 0/635 [00:00<?, ?it/s]"
      ]
     },
     "metadata": {},
     "output_type": "display_data"
    }
   ],
   "source": [
    "deposit_table_name = 'instance_code'\n",
    "deposit_tool.big_to_sql(subject_df, deposit_table_name)"
   ]
  },
  {
   "cell_type": "markdown",
   "metadata": {},
   "source": [
    "## predicate_code 表的制作"
   ]
  },
  {
   "cell_type": "code",
   "execution_count": 6,
   "metadata": {},
   "outputs": [
    {
     "data": {
      "text/html": [
       "<div>\n",
       "<style scoped>\n",
       "    .dataframe tbody tr th:only-of-type {\n",
       "        vertical-align: middle;\n",
       "    }\n",
       "\n",
       "    .dataframe tbody tr th {\n",
       "        vertical-align: top;\n",
       "    }\n",
       "\n",
       "    .dataframe thead th {\n",
       "        text-align: right;\n",
       "    }\n",
       "</style>\n",
       "<table border=\"1\" class=\"dataframe\">\n",
       "  <thead>\n",
       "    <tr style=\"text-align: right;\">\n",
       "      <th></th>\n",
       "      <th>predicate</th>\n",
       "      <th>code</th>\n",
       "    </tr>\n",
       "  </thead>\n",
       "  <tbody>\n",
       "    <tr>\n",
       "      <td>0</td>\n",
       "      <td>&lt;graduatedFrom&gt;</td>\n",
       "      <td>9.0</td>\n",
       "    </tr>\n",
       "    <tr>\n",
       "      <td>1</td>\n",
       "      <td>&lt;isInterestedIn&gt;</td>\n",
       "      <td>58.0</td>\n",
       "    </tr>\n",
       "    <tr>\n",
       "      <td>2</td>\n",
       "      <td>&lt;diedIn&gt;</td>\n",
       "      <td>4.0</td>\n",
       "    </tr>\n",
       "    <tr>\n",
       "      <td>3</td>\n",
       "      <td>&lt;hasISBN&gt;</td>\n",
       "      <td>30.0</td>\n",
       "    </tr>\n",
       "    <tr>\n",
       "      <td>4</td>\n",
       "      <td>&lt;exports&gt;</td>\n",
       "      <td>8.0</td>\n",
       "    </tr>\n",
       "  </tbody>\n",
       "</table>\n",
       "</div>"
      ],
      "text/plain": [
       "          predicate  code\n",
       "0   <graduatedFrom>   9.0\n",
       "1  <isInterestedIn>  58.0\n",
       "2          <diedIn>   4.0\n",
       "3         <hasISBN>  30.0\n",
       "4         <exports>   8.0"
      ]
     },
     "execution_count": 6,
     "metadata": {},
     "output_type": "execute_result"
    }
   ],
   "source": [
    "# 将 table_list 中的所有表中的 predicates进行独热编码\n",
    "# 此cell的代码过程与之前解释过的几乎完全一致，不在过多解释。\n",
    "\n",
    "table_list = [yagoDateFacts, yagoFacts, yagoLabels, yagoLiteralFacts]\n",
    "\n",
    "predicates_ar = np.array([])\n",
    "\n",
    "for table in table_list:\n",
    "    predicates_ar = np.concatenate((predicates_ar, table['predicates'].values), axis=0)\n",
    "    \n",
    "pure_predicates = np.array(list(set(predicates_ar)))\n",
    "\n",
    "enc = OrdinalEncoder()\n",
    "\n",
    "enc.fit(pure_predicates.reshape(-1, 1))\n",
    "encode_predicates = enc.transform(pure_predicates.reshape(-1, 1))\n",
    "encode_predicates = encode_predicates + 1\n",
    "\n",
    "# 其中 predicate 和 code 为列名\n",
    "predicates_df = pd.DataFrame({'predicate': pure_predicates, 'code': encode_predicates.reshape(-1)})\n",
    "predicates_df.head()"
   ]
  },
  {
   "cell_type": "code",
   "execution_count": 7,
   "metadata": {},
   "outputs": [
    {
     "data": {
      "application/vnd.jupyter.widget-view+json": {
       "model_id": "2183b82fd893402f88fbf7503d866898",
       "version_major": 2,
       "version_minor": 0
      },
      "text/plain": [
       "  0%|          | 0/1 [00:00<?, ?it/s]"
      ]
     },
     "metadata": {},
     "output_type": "display_data"
    }
   ],
   "source": [
    "deposit_table_name = 'predicate_code'\n",
    "deposit_tool.big_to_sql(predicates_df, deposit_table_name)"
   ]
  },
  {
   "cell_type": "markdown",
   "metadata": {},
   "source": [
    "## attribute_value_type_code 表的制作"
   ]
  },
  {
   "cell_type": "code",
   "execution_count": 8,
   "metadata": {},
   "outputs": [
    {
     "data": {
      "text/html": [
       "<div>\n",
       "<style scoped>\n",
       "    .dataframe tbody tr th:only-of-type {\n",
       "        vertical-align: middle;\n",
       "    }\n",
       "\n",
       "    .dataframe tbody tr th {\n",
       "        vertical-align: top;\n",
       "    }\n",
       "\n",
       "    .dataframe thead th {\n",
       "        text-align: right;\n",
       "    }\n",
       "</style>\n",
       "<table border=\"1\" class=\"dataframe\">\n",
       "  <thead>\n",
       "    <tr style=\"text-align: right;\">\n",
       "      <th></th>\n",
       "      <th>attribute_value_type</th>\n",
       "      <th>code</th>\n",
       "    </tr>\n",
       "  </thead>\n",
       "  <tbody>\n",
       "    <tr>\n",
       "      <td>0</td>\n",
       "      <td>&lt;wikicat_Baltimore_Orioles_seasons&gt;</td>\n",
       "      <td>89306.0</td>\n",
       "    </tr>\n",
       "    <tr>\n",
       "      <td>1</td>\n",
       "      <td>&lt;wikicat_Major_League_Baseball_teams_seasons&gt;</td>\n",
       "      <td>348349.0</td>\n",
       "    </tr>\n",
       "    <tr>\n",
       "      <td>2</td>\n",
       "      <td>&lt;wikicat_St._Louis_Browns_seasons&gt;</td>\n",
       "      <td>585038.0</td>\n",
       "    </tr>\n",
       "    <tr>\n",
       "      <td>3</td>\n",
       "      <td>&lt;wordnet_abstraction_100002137&gt;</td>\n",
       "      <td>665215.0</td>\n",
       "    </tr>\n",
       "    <tr>\n",
       "      <td>4</td>\n",
       "      <td>&lt;wordnet_fundamental_quantity_113575869&gt;</td>\n",
       "      <td>668856.0</td>\n",
       "    </tr>\n",
       "  </tbody>\n",
       "</table>\n",
       "</div>"
      ],
      "text/plain": [
       "                            attribute_value_type      code\n",
       "0            <wikicat_Baltimore_Orioles_seasons>   89306.0\n",
       "1  <wikicat_Major_League_Baseball_teams_seasons>  348349.0\n",
       "2             <wikicat_St._Louis_Browns_seasons>  585038.0\n",
       "3                <wordnet_abstraction_100002137>  665215.0\n",
       "4       <wordnet_fundamental_quantity_113575869>  668856.0"
      ]
     },
     "execution_count": 8,
     "metadata": {},
     "output_type": "execute_result"
    }
   ],
   "source": [
    "# 提取yagoSchema中的 predicates 为 'rdfs:range' 的所有行\n",
    "yagoSchema = yagoSchema.loc[yagoSchema['predicates'] == 'rdfs:range', :]\n",
    "\n",
    "# 针对表3\n",
    "# 与前面的类似，不解释\n",
    "\n",
    "table_list = [yagoTransitiveType, yagoSchema]\n",
    "\n",
    "object_3 = pd.DataFrame([], columns=['object'])\n",
    "\n",
    "for table in table_list:\n",
    "    object_3 = pd.concat([object_3, table[['object']]])\n",
    "    \n",
    "# 提取了所有表的object后，使用duplicated()方法去重\n",
    "object_3 = object_3.loc[object_3.duplicated() != True, :]\n",
    "object_3 = object_3['object'].values\n",
    "\n",
    "enc = OrdinalEncoder()\n",
    "\n",
    "enc.fit(object_3.reshape(-1, 1))\n",
    "encode_object_3 = enc.transform(object_3.reshape(-1, 1))\n",
    "encode_object_3 = encode_object_3 + 1 # 使用np.array的广播机制，让所有值+1\n",
    "object_3_df = pd.DataFrame({'attribute_value_type': object_3, 'code': encode_object_3.reshape(-1)})\n",
    "object_3_df.head()"
   ]
  },
  {
   "cell_type": "code",
   "execution_count": 9,
   "metadata": {},
   "outputs": [
    {
     "data": {
      "application/vnd.jupyter.widget-view+json": {
       "model_id": "a3c15340181144a08338d82d37852c27",
       "version_major": 2,
       "version_minor": 0
      },
      "text/plain": [
       "  0%|          | 0/68 [00:00<?, ?it/s]"
      ]
     },
     "metadata": {},
     "output_type": "display_data"
    }
   ],
   "source": [
    "deposit_table_name = 'attribute_value_type_code'\n",
    "deposit_tool.big_to_sql(object_3_df, deposit_table_name)"
   ]
  },
  {
   "cell_type": "markdown",
   "metadata": {},
   "source": [
    "## attribute_value_code 表的制作"
   ]
  },
  {
   "cell_type": "code",
   "execution_count": 10,
   "metadata": {},
   "outputs": [
    {
     "data": {
      "text/html": [
       "<div>\n",
       "<style scoped>\n",
       "    .dataframe tbody tr th:only-of-type {\n",
       "        vertical-align: middle;\n",
       "    }\n",
       "\n",
       "    .dataframe tbody tr th {\n",
       "        vertical-align: top;\n",
       "    }\n",
       "\n",
       "    .dataframe thead th {\n",
       "        text-align: right;\n",
       "    }\n",
       "</style>\n",
       "<table border=\"1\" class=\"dataframe\">\n",
       "  <thead>\n",
       "    <tr style=\"text-align: right;\">\n",
       "      <th></th>\n",
       "      <th>attribute_value</th>\n",
       "      <th>code</th>\n",
       "    </tr>\n",
       "  </thead>\n",
       "  <tbody>\n",
       "    <tr>\n",
       "      <td>0</td>\n",
       "      <td>\"1919__##__##\"^^xsd:date</td>\n",
       "      <td>650384.0</td>\n",
       "    </tr>\n",
       "    <tr>\n",
       "      <td>1</td>\n",
       "      <td>\"2010__##__##\"^^xsd:date</td>\n",
       "      <td>1010266.0</td>\n",
       "    </tr>\n",
       "    <tr>\n",
       "      <td>2</td>\n",
       "      <td>\"2012__03__23\"^^xsd:date</td>\n",
       "      <td>1038370.0</td>\n",
       "    </tr>\n",
       "    <tr>\n",
       "      <td>3</td>\n",
       "      <td>\"1990__##__##\"^^xsd:date</td>\n",
       "      <td>819979.0</td>\n",
       "    </tr>\n",
       "    <tr>\n",
       "      <td>4</td>\n",
       "      <td>\"1983__02__03\"^^xsd:date</td>\n",
       "      <td>791584.0</td>\n",
       "    </tr>\n",
       "  </tbody>\n",
       "</table>\n",
       "</div>"
      ],
      "text/plain": [
       "            attribute_value       code\n",
       "0  \"1919__##__##\"^^xsd:date   650384.0\n",
       "1  \"2010__##__##\"^^xsd:date  1010266.0\n",
       "2  \"2012__03__23\"^^xsd:date  1038370.0\n",
       "3  \"1990__##__##\"^^xsd:date   819979.0\n",
       "4  \"1983__02__03\"^^xsd:date   791584.0"
      ]
     },
     "execution_count": 10,
     "metadata": {},
     "output_type": "execute_result"
    }
   ],
   "source": [
    "# 提取table_list 中所有表的 object ，进行独热编码，针对表4\n",
    "# 此cell与前面的代码用法类似，不解释。\n",
    "\n",
    "table_list = [yagoDateFacts, yagoFacts, yagoLabels, yagoLiteralFacts]\n",
    "\n",
    "object_4 = pd.DataFrame([], columns=['object'])\n",
    "\n",
    "for table in table_list:\n",
    "    object_4 = pd.concat([object_4, table[['object']]])\n",
    "\n",
    "# 从四个表中得到的所有的object进行去重复，并获取其值(得到的为np.array类型)\n",
    "object_4 = object_4.loc[object_4['object'].duplicated() != True, 'object'].values\n",
    "\n",
    "enc = OrdinalEncoder()\n",
    "\n",
    "enc.fit(object_4.reshape(-1, 1))\n",
    "encode_object_4 = enc.transform(object_4.reshape(-1, 1))\n",
    "encode_object_4 = encode_object_4 + 1 # 下标从1开始\n",
    "object_4_df = pd.DataFrame({'attribute_value': object_4, 'code': encode_object_4.reshape(-1)})\n",
    "object_4_df.head()"
   ]
  },
  {
   "cell_type": "code",
   "execution_count": 11,
   "metadata": {},
   "outputs": [
    {
     "data": {
      "application/vnd.jupyter.widget-view+json": {
       "model_id": "63d27d753cca4c07a2c4e1bc0880a6cd",
       "version_major": 2,
       "version_minor": 0
      },
      "text/plain": [
       "  0%|          | 0/4729 [00:00<?, ?it/s]"
      ]
     },
     "metadata": {},
     "output_type": "display_data"
    }
   ],
   "source": [
    "deposit_table_name = 'attribute_value_code'\n",
    "deposit_tool.big_to_sql(object_4_df, deposit_table_name)"
   ]
  },
  {
   "cell_type": "markdown",
   "metadata": {},
   "source": [
    "## 完成"
   ]
  }
 ],
 "metadata": {
  "kernelspec": {
   "display_name": "Python 3",
   "language": "python",
   "name": "python3"
  },
  "language_info": {
   "codemirror_mode": {
    "name": "ipython",
    "version": 3
   },
   "file_extension": ".py",
   "mimetype": "text/x-python",
   "name": "python",
   "nbconvert_exporter": "python",
   "pygments_lexer": "ipython3",
   "version": "3.7.4"
  }
 },
 "nbformat": 4,
 "nbformat_minor": 2
}
